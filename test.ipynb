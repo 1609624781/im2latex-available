{
 "cells": [
  {
   "cell_type": "code",
   "execution_count": 26,
   "metadata": {},
   "outputs": [
    {
     "data": {
      "text/latex": [
       "$\\xi _ { n } ( u ) = \\operatorname { s i n } \\Bigl ( \\frac { \\pi n u } { t } )$"
      ],
      "text/plain": [
       "<IPython.core.display.Latex object>"
      ]
     },
     "execution_count": 26,
     "metadata": {},
     "output_type": "execute_result"
    }
   ],
   "source": [
    "import IPython\n",
    "# from IPython import math\n",
    "from IPython.display import Latex, Math, display\n",
    "\n",
    "\n",
    "# import os\n",
    "# path = \"./output\" #文件夹目录\n",
    "# files= os.listdir(path) #得到文件夹下的所有文件名称\n",
    "# s = []\n",
    "# for file in files: #遍历文件夹\n",
    "#     if not os.path.isdir(file): #判断是否是文件夹，不是文件夹才打开\n",
    "#         f = open(path+\"/\"+file); #打开文件\n",
    "#         s = f.readline()\n",
    "#         print(s)\n",
    "#         Latex(\"r$\"+s+\"$\")\n",
    "# print(s) #打印结果\n",
    "# display(Math(\"\\xi _ { n } ( u ) = \\operatorname { s i n } \\Bigl ( \\frac { \\pi n u } { t } )\"))\n",
    "Latex(r\"$\\xi _ { n } ( u ) = \\operatorname { s i n } \\Bigl ( \\frac { \\pi n u } { t } )$\")"
   ]
  }
 ],
 "metadata": {
  "kernelspec": {
   "display_name": "i2l-torch",
   "language": "python",
   "name": "python3"
  },
  "language_info": {
   "codemirror_mode": {
    "name": "ipython",
    "version": 3
   },
   "file_extension": ".py",
   "mimetype": "text/x-python",
   "name": "python",
   "nbconvert_exporter": "python",
   "pygments_lexer": "ipython3",
   "version": "3.10.13"
  }
 },
 "nbformat": 4,
 "nbformat_minor": 2
}
